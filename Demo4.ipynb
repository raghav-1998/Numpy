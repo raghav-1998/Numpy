{
 "cells": [
  {
   "cell_type": "markdown",
   "id": "582e413f",
   "metadata": {},
   "source": [
    "# Array Copy vs View"
   ]
  },
  {
   "cell_type": "markdown",
   "id": "a761d18d",
   "metadata": {},
   "source": [
    "**Copy**"
   ]
  },
  {
   "cell_type": "code",
   "execution_count": 1,
   "id": "50747543",
   "metadata": {},
   "outputs": [],
   "source": [
    "import numpy as np"
   ]
  },
  {
   "cell_type": "code",
   "execution_count": 2,
   "id": "4bcf1a31",
   "metadata": {},
   "outputs": [],
   "source": [
    "arr=np.array([1,2,3,4])\n",
    "x=arr.copy()\n",
    "arr[0]=6"
   ]
  },
  {
   "cell_type": "code",
   "execution_count": 3,
   "id": "97a692df",
   "metadata": {},
   "outputs": [
    {
     "name": "stdout",
     "output_type": "stream",
     "text": [
      "[6 2 3 4]\n",
      "[1 2 3 4]\n"
     ]
    }
   ],
   "source": [
    "print(arr)\n",
    "print(x)"
   ]
  },
  {
   "cell_type": "markdown",
   "id": "275bcbde",
   "metadata": {},
   "source": [
    "**View**"
   ]
  },
  {
   "cell_type": "code",
   "execution_count": 4,
   "id": "e8ff6aeb",
   "metadata": {},
   "outputs": [],
   "source": [
    "viewarr=arr.view()\n",
    "arr[0]=1"
   ]
  },
  {
   "cell_type": "code",
   "execution_count": 8,
   "id": "422e9646",
   "metadata": {},
   "outputs": [
    {
     "name": "stdout",
     "output_type": "stream",
     "text": [
      "[6 2 3 4]\n",
      "[6 2 3 4]\n"
     ]
    }
   ],
   "source": [
    "print(arr)\n",
    "print(viewarr) #Changes in original array affect view"
   ]
  },
  {
   "cell_type": "code",
   "execution_count": 6,
   "id": "d93d370f",
   "metadata": {},
   "outputs": [],
   "source": [
    "viewarr[0]=6"
   ]
  },
  {
   "cell_type": "code",
   "execution_count": 7,
   "id": "7881b2dd",
   "metadata": {},
   "outputs": [
    {
     "name": "stdout",
     "output_type": "stream",
     "text": [
      "[6 2 3 4]\n",
      "[6 2 3 4]\n"
     ]
    }
   ],
   "source": [
    "print(arr)\n",
    "print(viewarr) #Changes in view affect original array"
   ]
  },
  {
   "cell_type": "markdown",
   "id": "b4d09143",
   "metadata": {},
   "source": [
    "**Check if Array Owns its Data**"
   ]
  },
  {
   "cell_type": "code",
   "execution_count": 9,
   "id": "ad33400d",
   "metadata": {},
   "outputs": [],
   "source": [
    "arr=np.array([1,2,3,4,5,6])\n",
    "copyarr=arr.copy()\n",
    "viewarr=arr.view()"
   ]
  },
  {
   "cell_type": "code",
   "execution_count": 11,
   "id": "e23ee11e",
   "metadata": {},
   "outputs": [
    {
     "name": "stdout",
     "output_type": "stream",
     "text": [
      "None\n",
      "[1 2 3 4 5 6]\n"
     ]
    }
   ],
   "source": [
    "print(copyarr.base) #As base attribute return None, so copy owns the data\n",
    "print(viewarr.base)"
   ]
  },
  {
   "cell_type": "code",
   "execution_count": null,
   "id": "fdf93182",
   "metadata": {},
   "outputs": [],
   "source": []
  }
 ],
 "metadata": {
  "kernelspec": {
   "display_name": "Python 3",
   "language": "python",
   "name": "python3"
  },
  "language_info": {
   "codemirror_mode": {
    "name": "ipython",
    "version": 3
   },
   "file_extension": ".py",
   "mimetype": "text/x-python",
   "name": "python",
   "nbconvert_exporter": "python",
   "pygments_lexer": "ipython3",
   "version": "3.8.3"
  }
 },
 "nbformat": 4,
 "nbformat_minor": 5
}
