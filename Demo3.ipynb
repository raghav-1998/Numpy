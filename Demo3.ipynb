{
 "cells": [
  {
   "cell_type": "markdown",
   "id": "976e4162",
   "metadata": {},
   "source": [
    "# Numpy Data Types"
   ]
  },
  {
   "cell_type": "code",
   "execution_count": 1,
   "id": "75d74944",
   "metadata": {},
   "outputs": [],
   "source": [
    "import numpy as np"
   ]
  },
  {
   "cell_type": "markdown",
   "id": "7becfded",
   "metadata": {},
   "source": [
    "**Checking the Data Type of an Array** "
   ]
  },
  {
   "cell_type": "code",
   "execution_count": 2,
   "id": "026bd00b",
   "metadata": {},
   "outputs": [
    {
     "name": "stdout",
     "output_type": "stream",
     "text": [
      "int32\n"
     ]
    }
   ],
   "source": [
    "arr=np.array([1,2,3,4])\n",
    "print(arr.dtype)"
   ]
  },
  {
   "cell_type": "code",
   "execution_count": 3,
   "id": "b20f29b8",
   "metadata": {},
   "outputs": [
    {
     "name": "stdout",
     "output_type": "stream",
     "text": [
      "<U6\n"
     ]
    }
   ],
   "source": [
    "arr1=np.array([\"apple\",\"banana\",\"mango\",\"grapes\"])\n",
    "print(arr1.dtype)"
   ]
  },
  {
   "cell_type": "markdown",
   "id": "157f3804",
   "metadata": {},
   "source": [
    "**Creating Arrays With a Defined Data Type**"
   ]
  },
  {
   "cell_type": "code",
   "execution_count": 5,
   "id": "3d10e277",
   "metadata": {},
   "outputs": [
    {
     "name": "stdout",
     "output_type": "stream",
     "text": [
      "[b'1' b'2' b'3' b'4']\n",
      "|S1\n"
     ]
    }
   ],
   "source": [
    "arr=np.array([1,2,3,4],dtype='S')  #Creating an array of string\n",
    "print(arr)\n",
    "print(arr.dtype)"
   ]
  },
  {
   "cell_type": "code",
   "execution_count": 6,
   "id": "c5e08aa1",
   "metadata": {},
   "outputs": [
    {
     "name": "stdout",
     "output_type": "stream",
     "text": [
      "[1 2 3 4]\n",
      "int32\n"
     ]
    }
   ],
   "source": [
    "arr1=np.array([1,2,3,4],dtype='i4')\n",
    "print(arr1)\n",
    "print(arr1.dtype)"
   ]
  },
  {
   "cell_type": "markdown",
   "id": "d6783312",
   "metadata": {},
   "source": [
    "arr=np.array(['a','2','3'],dtype='i') shows error as 'a' cannot be converted to integer"
   ]
  },
  {
   "cell_type": "markdown",
   "id": "c8ed5d28",
   "metadata": {},
   "source": [
    "**Converting Data Type on Existing Arrays**"
   ]
  },
  {
   "cell_type": "code",
   "execution_count": 7,
   "id": "bd75ec0e",
   "metadata": {},
   "outputs": [
    {
     "name": "stdout",
     "output_type": "stream",
     "text": [
      "[1 2 3 4]\n",
      "int32\n"
     ]
    }
   ],
   "source": [
    "arr2=np.array([1.1,2.2,3.3,4.4])\n",
    "newarr2=arr2.astype('i') #'i' or int\n",
    "\n",
    "print(newarr2)\n",
    "print(newarr2.dtype)"
   ]
  },
  {
   "cell_type": "code",
   "execution_count": 10,
   "id": "30f5d9d9",
   "metadata": {},
   "outputs": [
    {
     "name": "stdout",
     "output_type": "stream",
     "text": [
      "[ True False  True]\n",
      "bool\n"
     ]
    }
   ],
   "source": [
    "intarr=np.array([1,0,3])\n",
    "boolarr=intarr.astype(bool)\n",
    "\n",
    "print(boolarr)\n",
    "print(boolarr.dtype)"
   ]
  },
  {
   "cell_type": "code",
   "execution_count": null,
   "id": "9743c740",
   "metadata": {},
   "outputs": [],
   "source": []
  }
 ],
 "metadata": {
  "kernelspec": {
   "display_name": "Python 3",
   "language": "python",
   "name": "python3"
  },
  "language_info": {
   "codemirror_mode": {
    "name": "ipython",
    "version": 3
   },
   "file_extension": ".py",
   "mimetype": "text/x-python",
   "name": "python",
   "nbconvert_exporter": "python",
   "pygments_lexer": "ipython3",
   "version": "3.8.3"
  }
 },
 "nbformat": 4,
 "nbformat_minor": 5
}
