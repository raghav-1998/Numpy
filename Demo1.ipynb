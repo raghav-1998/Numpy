{
 "cells": [
  {
   "cell_type": "code",
   "execution_count": 1,
   "id": "82bde199",
   "metadata": {},
   "outputs": [],
   "source": [
    "import numpy as np"
   ]
  },
  {
   "cell_type": "markdown",
   "id": "2e7d2890",
   "metadata": {},
   "source": [
    "# NumPy Creating Arrays"
   ]
  },
  {
   "cell_type": "markdown",
   "id": "6b2b4195",
   "metadata": {},
   "source": [
    "**Create a NumPy ndarray Object**"
   ]
  },
  {
   "cell_type": "code",
   "execution_count": 2,
   "id": "677b242c",
   "metadata": {},
   "outputs": [],
   "source": [
    "arr=np.array([1,2,3,4])"
   ]
  },
  {
   "cell_type": "code",
   "execution_count": 3,
   "id": "e6363dc7",
   "metadata": {},
   "outputs": [
    {
     "name": "stdout",
     "output_type": "stream",
     "text": [
      "[1 2 3 4]\n",
      "<class 'numpy.ndarray'>\n"
     ]
    }
   ],
   "source": [
    "print(arr)\n",
    "print(type(arr))"
   ]
  },
  {
   "cell_type": "markdown",
   "id": "af9dda78",
   "metadata": {},
   "source": [
    "**Creating 0-D array**"
   ]
  },
  {
   "cell_type": "code",
   "execution_count": 4,
   "id": "e1c8d468",
   "metadata": {},
   "outputs": [],
   "source": [
    "arr0=np.array(43)"
   ]
  },
  {
   "cell_type": "code",
   "execution_count": 5,
   "id": "294985cd",
   "metadata": {},
   "outputs": [
    {
     "name": "stdout",
     "output_type": "stream",
     "text": [
      "43\n",
      "0\n"
     ]
    }
   ],
   "source": [
    "print(arr0)\n",
    "print(arr0.ndim)"
   ]
  },
  {
   "cell_type": "markdown",
   "id": "a6e828d4",
   "metadata": {},
   "source": [
    "**Creating 1-D array**"
   ]
  },
  {
   "cell_type": "code",
   "execution_count": 7,
   "id": "95c6347f",
   "metadata": {},
   "outputs": [],
   "source": [
    "arr1=np.array([1,2,3,4])"
   ]
  },
  {
   "cell_type": "code",
   "execution_count": 8,
   "id": "fc0a0f7d",
   "metadata": {},
   "outputs": [
    {
     "name": "stdout",
     "output_type": "stream",
     "text": [
      "[1 2 3 4]\n",
      "1\n"
     ]
    }
   ],
   "source": [
    "print(arr1)\n",
    "print(arr1.ndim)"
   ]
  },
  {
   "cell_type": "markdown",
   "id": "2d192f38",
   "metadata": {},
   "source": [
    "**Creating 2-D array**"
   ]
  },
  {
   "cell_type": "code",
   "execution_count": 11,
   "id": "65fd00f6",
   "metadata": {},
   "outputs": [],
   "source": [
    "arr2=np.array([[1,2,3],[4,5,6]])"
   ]
  },
  {
   "cell_type": "code",
   "execution_count": 13,
   "id": "24230eee",
   "metadata": {},
   "outputs": [
    {
     "name": "stdout",
     "output_type": "stream",
     "text": [
      "2\n",
      "[[1 2 3]\n",
      " [4 5 6]]\n"
     ]
    }
   ],
   "source": [
    "print(arr2.ndim)\n",
    "print(arr2)"
   ]
  },
  {
   "cell_type": "markdown",
   "id": "32db8319",
   "metadata": {},
   "source": [
    "**Creating Higher Dimension Array**"
   ]
  },
  {
   "cell_type": "code",
   "execution_count": 20,
   "id": "7e7b81df",
   "metadata": {},
   "outputs": [],
   "source": [
    "arr3=np.array([1,2,3,4,7],ndmin=3)"
   ]
  },
  {
   "cell_type": "code",
   "execution_count": 21,
   "id": "c468f89e",
   "metadata": {},
   "outputs": [
    {
     "name": "stdout",
     "output_type": "stream",
     "text": [
      "[[[1 2 3 4 7]]]\n",
      "3\n"
     ]
    }
   ],
   "source": [
    "print(arr3)\n",
    "print(arr3.ndim)"
   ]
  },
  {
   "cell_type": "markdown",
   "id": "00d26ee7",
   "metadata": {},
   "source": [
    "arange() gives uncertain number of values based on steps"
   ]
  },
  {
   "cell_type": "markdown",
   "id": "a49524f7",
   "metadata": {},
   "source": [
    "**Creation of an array with step size 1.33 between 0 - 10**"
   ]
  },
  {
   "cell_type": "code",
   "execution_count": 22,
   "id": "189ab3da",
   "metadata": {},
   "outputs": [],
   "source": [
    "arange_arr=np.arange(0,10,1.33,dtype=np.float64)"
   ]
  },
  {
   "cell_type": "code",
   "execution_count": 23,
   "id": "1e1d4c09",
   "metadata": {},
   "outputs": [
    {
     "name": "stdout",
     "output_type": "stream",
     "text": [
      "[0.   1.33 2.66 3.99 5.32 6.65 7.98 9.31]\n"
     ]
    }
   ],
   "source": [
    "print(arange_arr)"
   ]
  },
  {
   "cell_type": "markdown",
   "id": "19159f6b",
   "metadata": {},
   "source": [
    "Linespace asks for total number of values between 2 number"
   ]
  },
  {
   "cell_type": "markdown",
   "id": "0df963ce",
   "metadata": {},
   "source": [
    "**Creation of an array with total 5 values between 0 - 160**"
   ]
  },
  {
   "cell_type": "code",
   "execution_count": 24,
   "id": "63998dae",
   "metadata": {},
   "outputs": [],
   "source": [
    "linespace_arr=np.linspace(0,160,5,dtype=np.float64)"
   ]
  },
  {
   "cell_type": "code",
   "execution_count": 25,
   "id": "f7a24889",
   "metadata": {},
   "outputs": [
    {
     "name": "stdout",
     "output_type": "stream",
     "text": [
      "[  0.  40.  80. 120. 160.]\n"
     ]
    }
   ],
   "source": [
    "print(linespace_arr)"
   ]
  },
  {
   "cell_type": "markdown",
   "id": "8bf1a887",
   "metadata": {},
   "source": [
    "# Array Indexing"
   ]
  },
  {
   "cell_type": "code",
   "execution_count": 27,
   "id": "a331ac4d",
   "metadata": {},
   "outputs": [
    {
     "name": "stdout",
     "output_type": "stream",
     "text": [
      "1\n"
     ]
    }
   ],
   "source": [
    "print(arr[0]) #Accessing 1st element of arr"
   ]
  },
  {
   "cell_type": "code",
   "execution_count": 29,
   "id": "1a2ab664",
   "metadata": {},
   "outputs": [
    {
     "name": "stdout",
     "output_type": "stream",
     "text": [
      "2\n"
     ]
    }
   ],
   "source": [
    "print(arr2[0,1]) #Accessing 2nd on 1st row"
   ]
  },
  {
   "cell_type": "code",
   "execution_count": 31,
   "id": "25aebffd",
   "metadata": {},
   "outputs": [
    {
     "name": "stdout",
     "output_type": "stream",
     "text": [
      "4\n"
     ]
    }
   ],
   "source": [
    "print(arr3[0,0,3]) #Accessing 4th element of 1st array of 1st array"
   ]
  },
  {
   "cell_type": "markdown",
   "id": "01c61aeb",
   "metadata": {},
   "source": [
    "**Negative Indexing**"
   ]
  },
  {
   "cell_type": "code",
   "execution_count": 34,
   "id": "45ea484c",
   "metadata": {},
   "outputs": [
    {
     "name": "stdout",
     "output_type": "stream",
     "text": [
      "6\n"
     ]
    }
   ],
   "source": [
    "print(arr2[1,-1]) #Accessing Last element of 2nd row"
   ]
  },
  {
   "cell_type": "code",
   "execution_count": null,
   "id": "a734760f",
   "metadata": {},
   "outputs": [],
   "source": []
  },
  {
   "cell_type": "code",
   "execution_count": null,
   "id": "bc30d339",
   "metadata": {},
   "outputs": [],
   "source": []
  }
 ],
 "metadata": {
  "kernelspec": {
   "display_name": "Python 3",
   "language": "python",
   "name": "python3"
  },
  "language_info": {
   "codemirror_mode": {
    "name": "ipython",
    "version": 3
   },
   "file_extension": ".py",
   "mimetype": "text/x-python",
   "name": "python",
   "nbconvert_exporter": "python",
   "pygments_lexer": "ipython3",
   "version": "3.8.3"
  }
 },
 "nbformat": 4,
 "nbformat_minor": 5
}
