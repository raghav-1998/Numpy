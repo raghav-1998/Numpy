{
 "cells": [
  {
   "cell_type": "code",
   "execution_count": 1,
   "id": "82bde199",
   "metadata": {},
   "outputs": [],
   "source": [
    "import numpy as np"
   ]
  },
  {
   "cell_type": "markdown",
   "id": "ddab3252",
   "metadata": {},
   "source": [
    "# NumPy Creating Arrays"
   ]
  },
  {
   "cell_type": "markdown",
   "id": "65f55a26",
   "metadata": {},
   "source": [
    "**Create a NumPy ndarray Object**"
   ]
  },
  {
   "cell_type": "code",
   "execution_count": 2,
   "id": "36c3bcdb",
   "metadata": {},
   "outputs": [],
   "source": [
    "arr=np.array([1,2,3,4])"
   ]
  },
  {
   "cell_type": "code",
   "execution_count": 3,
   "id": "ebeadcf7",
   "metadata": {},
   "outputs": [
    {
     "name": "stdout",
     "output_type": "stream",
     "text": [
      "[1 2 3 4]\n",
      "<class 'numpy.ndarray'>\n"
     ]
    }
   ],
   "source": [
    "print(arr)\n",
    "print(type(arr))"
   ]
  },
  {
   "cell_type": "markdown",
   "id": "2240da04",
   "metadata": {},
   "source": [
    "**Creating 0-D array**"
   ]
  },
  {
   "cell_type": "code",
   "execution_count": 4,
   "id": "cda83496",
   "metadata": {},
   "outputs": [],
   "source": [
    "arr0=np.array(43)"
   ]
  },
  {
   "cell_type": "code",
   "execution_count": 5,
   "id": "17d1fdde",
   "metadata": {},
   "outputs": [
    {
     "name": "stdout",
     "output_type": "stream",
     "text": [
      "43\n",
      "0\n"
     ]
    }
   ],
   "source": [
    "print(arr0)\n",
    "print(arr0.ndim)"
   ]
  },
  {
   "cell_type": "markdown",
   "id": "3c4f488f",
   "metadata": {},
   "source": [
    "**Creating 1-D array**"
   ]
  },
  {
   "cell_type": "code",
   "execution_count": 7,
   "id": "1ccb3112",
   "metadata": {},
   "outputs": [],
   "source": [
    "arr1=np.array([1,2,3,4])"
   ]
  },
  {
   "cell_type": "code",
   "execution_count": 8,
   "id": "ad19606e",
   "metadata": {},
   "outputs": [
    {
     "name": "stdout",
     "output_type": "stream",
     "text": [
      "[1 2 3 4]\n",
      "1\n"
     ]
    }
   ],
   "source": [
    "print(arr1)\n",
    "print(arr1.ndim)"
   ]
  },
  {
   "cell_type": "markdown",
   "id": "8c941c63",
   "metadata": {},
   "source": [
    "**Creating 2-D array**"
   ]
  },
  {
   "cell_type": "code",
   "execution_count": 11,
   "id": "7b392638",
   "metadata": {},
   "outputs": [],
   "source": [
    "arr2=np.array([[1,2,3],[4,5,6]])"
   ]
  },
  {
   "cell_type": "code",
   "execution_count": 13,
   "id": "d54f5005",
   "metadata": {},
   "outputs": [
    {
     "name": "stdout",
     "output_type": "stream",
     "text": [
      "2\n",
      "[[1 2 3]\n",
      " [4 5 6]]\n"
     ]
    }
   ],
   "source": [
    "print(arr2.ndim)\n",
    "print(arr2)"
   ]
  },
  {
   "cell_type": "markdown",
   "id": "71b761c3",
   "metadata": {},
   "source": [
    "**Creating Higher Dimension Array**"
   ]
  },
  {
   "cell_type": "code",
   "execution_count": 20,
   "id": "8e35fa43",
   "metadata": {},
   "outputs": [],
   "source": [
    "arr3=np.array([1,2,3,4,7],ndmin=3)"
   ]
  },
  {
   "cell_type": "code",
   "execution_count": 21,
   "id": "5485afa4",
   "metadata": {},
   "outputs": [
    {
     "name": "stdout",
     "output_type": "stream",
     "text": [
      "[[[1 2 3 4 7]]]\n",
      "3\n"
     ]
    }
   ],
   "source": [
    "print(arr3)\n",
    "print(arr3.ndim)"
   ]
  },
  {
   "cell_type": "markdown",
   "id": "fd4e87a7",
   "metadata": {},
   "source": [
    "arange() gives uncertain number of values based on steps"
   ]
  },
  {
   "cell_type": "markdown",
   "id": "10228d17",
   "metadata": {},
   "source": [
    "**Creation of an array with step size 1.33 between 0 - 10**"
   ]
  },
  {
   "cell_type": "code",
   "execution_count": 22,
   "id": "511b8e99",
   "metadata": {},
   "outputs": [],
   "source": [
    "arange_arr=np.arange(0,10,1.33,dtype=np.float64)"
   ]
  },
  {
   "cell_type": "code",
   "execution_count": 23,
   "id": "882dc7f8",
   "metadata": {},
   "outputs": [
    {
     "name": "stdout",
     "output_type": "stream",
     "text": [
      "[0.   1.33 2.66 3.99 5.32 6.65 7.98 9.31]\n"
     ]
    }
   ],
   "source": [
    "print(arange_arr)"
   ]
  },
  {
   "cell_type": "markdown",
   "id": "08f7a79e",
   "metadata": {},
   "source": [
    "Linespace asks for total number of values between 2 number"
   ]
  },
  {
   "cell_type": "markdown",
   "id": "87dc272b",
   "metadata": {},
   "source": [
    "**Creation of an array with total 5 values between 0 - 160**"
   ]
  },
  {
   "cell_type": "code",
   "execution_count": 24,
   "id": "04b492c5",
   "metadata": {},
   "outputs": [],
   "source": [
    "linespace_arr=np.linspace(0,160,5,dtype=np.float64)"
   ]
  },
  {
   "cell_type": "code",
   "execution_count": 25,
   "id": "9e48eacd",
   "metadata": {},
   "outputs": [
    {
     "name": "stdout",
     "output_type": "stream",
     "text": [
      "[  0.  40.  80. 120. 160.]\n"
     ]
    }
   ],
   "source": [
    "print(linespace_arr)"
   ]
  },
  {
   "cell_type": "markdown",
   "id": "ea4fb167",
   "metadata": {},
   "source": [
    "# Array Indexing"
   ]
  },
  {
   "cell_type": "code",
   "execution_count": 27,
   "id": "a9dd7227",
   "metadata": {},
   "outputs": [
    {
     "name": "stdout",
     "output_type": "stream",
     "text": [
      "1\n"
     ]
    }
   ],
   "source": [
    "print(arr[0]) #Accessing 1st element of arr"
   ]
  },
  {
   "cell_type": "code",
   "execution_count": 29,
   "id": "25d9a550",
   "metadata": {},
   "outputs": [
    {
     "name": "stdout",
     "output_type": "stream",
     "text": [
      "2\n"
     ]
    }
   ],
   "source": [
    "print(arr2[0,1]) #Accessing 2nd on 1st row"
   ]
  },
  {
   "cell_type": "code",
   "execution_count": 31,
   "id": "f2d41c14",
   "metadata": {},
   "outputs": [
    {
     "name": "stdout",
     "output_type": "stream",
     "text": [
      "4\n"
     ]
    }
   ],
   "source": [
    "print(arr3[0,0,3]) #Accessing 4th element of 1st array of 1st array"
   ]
  },
  {
   "cell_type": "code",
   "execution_count": 33,
   "id": "f47bb8ae",
   "metadata": {},
   "outputs": [
    {
     "name": "stdout",
     "output_type": "stream",
     "text": [
      "6\n"
     ]
    }
   ],
   "source": [
    "print(arr2[1,-1]) #Accessing Last element of 2nd row"
   ]
  },
  {
   "cell_type": "code",
   "execution_count": null,
   "id": "e1c903b3",
   "metadata": {},
   "outputs": [],
   "source": []
  },
  {
   "cell_type": "code",
   "execution_count": null,
   "id": "b1fcfb93",
   "metadata": {},
   "outputs": [],
   "source": []
  }
 ],
 "metadata": {
  "kernelspec": {
   "display_name": "Python 3",
   "language": "python",
   "name": "python3"
  },
  "language_info": {
   "codemirror_mode": {
    "name": "ipython",
    "version": 3
   },
   "file_extension": ".py",
   "mimetype": "text/x-python",
   "name": "python",
   "nbconvert_exporter": "python",
   "pygments_lexer": "ipython3",
   "version": "3.8.3"
  }
 },
 "nbformat": 4,
 "nbformat_minor": 5
}
