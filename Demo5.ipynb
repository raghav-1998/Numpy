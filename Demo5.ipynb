{
 "cells": [
  {
   "cell_type": "markdown",
   "id": "5a6ea04a",
   "metadata": {},
   "source": [
    "# NumPy Array Shape"
   ]
  },
  {
   "cell_type": "markdown",
   "id": "e1ea057e",
   "metadata": {},
   "source": [
    "**Get the Shape of an Array**"
   ]
  },
  {
   "cell_type": "code",
   "execution_count": 1,
   "id": "13920714",
   "metadata": {},
   "outputs": [],
   "source": [
    "import numpy as np"
   ]
  },
  {
   "cell_type": "code",
   "execution_count": 2,
   "id": "a87ed2cd",
   "metadata": {},
   "outputs": [
    {
     "name": "stdout",
     "output_type": "stream",
     "text": [
      "(2, 4)\n"
     ]
    }
   ],
   "source": [
    "arr=np.array([[1,2,3,4],[5,6,7,8]])\n",
    "print(arr.shape)"
   ]
  },
  {
   "cell_type": "markdown",
   "id": "401dfc3c",
   "metadata": {},
   "source": [
    "Here the conclusions are:\n",
    "1. (2,4) => 2 element in tuple, so the array has 2 dimensions.\n",
    "2. 1st element is 2, so 2 elements are present in 1st dimension.\n",
    "3. 2nd element in 4, so 4 elements are present in 2nd dimension"
   ]
  },
  {
   "cell_type": "code",
   "execution_count": 4,
   "id": "4dfbad06",
   "metadata": {},
   "outputs": [
    {
     "name": "stdout",
     "output_type": "stream",
     "text": [
      "[[1 2 3 4]\n",
      " [5 6 7 8]]\n",
      "(2, 4)\n"
     ]
    }
   ],
   "source": [
    "arr1=np.array([1,2,3,4],ndmin=5)\n",
    "print(arr1)\n",
    "print(arr1.shape)"
   ]
  },
  {
   "cell_type": "code",
   "execution_count": null,
   "id": "e617c84e",
   "metadata": {},
   "outputs": [],
   "source": []
  }
 ],
 "metadata": {
  "kernelspec": {
   "display_name": "Python 3",
   "language": "python",
   "name": "python3"
  },
  "language_info": {
   "codemirror_mode": {
    "name": "ipython",
    "version": 3
   },
   "file_extension": ".py",
   "mimetype": "text/x-python",
   "name": "python",
   "nbconvert_exporter": "python",
   "pygments_lexer": "ipython3",
   "version": "3.8.3"
  }
 },
 "nbformat": 4,
 "nbformat_minor": 5
}
