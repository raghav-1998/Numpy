{
 "cells": [
  {
   "cell_type": "markdown",
   "id": "e7f5eb4f",
   "metadata": {},
   "source": [
    "# NumPy Array Shape"
   ]
  },
  {
   "cell_type": "markdown",
   "id": "69831ae2",
   "metadata": {},
   "source": [
    "**Get the Shape of an Array**"
   ]
  },
  {
   "cell_type": "code",
   "execution_count": 1,
   "id": "44d1e7f4",
   "metadata": {},
   "outputs": [],
   "source": [
    "import numpy as np"
   ]
  },
  {
   "cell_type": "code",
   "execution_count": 2,
   "id": "42cd1a7c",
   "metadata": {},
   "outputs": [
    {
     "name": "stdout",
     "output_type": "stream",
     "text": [
      "(2, 4)\n"
     ]
    }
   ],
   "source": [
    "arr=np.array([[1,2,3,4],[5,6,7,8]])\n",
    "print(arr.shape)"
   ]
  },
  {
   "cell_type": "markdown",
   "id": "cd4bbb50",
   "metadata": {},
   "source": [
    "Here the conclusions are:\n",
    "1. (2,4) => 2 element in tuple, so the array has 2 dimensions.\n",
    "2. 1st element is 2, so 2 elements are present in 1st dimension.\n",
    "3. 2nd element in 4, so 4 elements are present in 2nd dimension"
   ]
  },
  {
   "cell_type": "code",
   "execution_count": 3,
   "id": "77abae16",
   "metadata": {},
   "outputs": [
    {
     "name": "stdout",
     "output_type": "stream",
     "text": [
      "[[[[[1 2 3 4]]]]]\n",
      "(1, 1, 1, 1, 4)\n"
     ]
    }
   ],
   "source": [
    "arr1=np.array([1,2,3,4],ndmin=5)\n",
    "print(arr1)\n",
    "print(arr1.shape)"
   ]
  },
  {
   "cell_type": "markdown",
   "id": "eca5c998",
   "metadata": {},
   "source": [
    "# Numpy Array Reshape"
   ]
  },
  {
   "cell_type": "markdown",
   "id": "8fda1b0d",
   "metadata": {},
   "source": [
    "**Reshape 1-D array into 2-D array**"
   ]
  },
  {
   "cell_type": "code",
   "execution_count": null,
   "id": "ed81481a",
   "metadata": {},
   "outputs": [],
   "source": [
    "arr=np.array([1,2,3,4,5,6,7,8,9,10,11,12])\n",
    "newarr=arr.reshape(4,3)\n",
    "print(newarr)"
   ]
  },
  {
   "cell_type": "markdown",
   "id": "aca44901",
   "metadata": {},
   "source": [
    "**Reshape 1-D array into 3-D array**"
   ]
  },
  {
   "cell_type": "code",
   "execution_count": 5,
   "id": "fb0c2b79",
   "metadata": {},
   "outputs": [
    {
     "name": "stdout",
     "output_type": "stream",
     "text": [
      "[[[ 1  2]\n",
      "  [ 3  4]\n",
      "  [ 5  6]]\n",
      "\n",
      " [[ 7  8]\n",
      "  [ 9 10]\n",
      "  [11 12]]]\n"
     ]
    }
   ],
   "source": [
    "newarr1=arr.reshape(2,3,2)\n",
    "print(newarr1)"
   ]
  },
  {
   "cell_type": "code",
   "execution_count": 7,
   "id": "a48610fb",
   "metadata": {},
   "outputs": [
    {
     "data": {
      "text/plain": [
       "'\\nnewarr2=arr.reshape(3,3)\\nprint(newarr2)\\nValueError: cannot reshape array of size 12 into shape (3,3)\\n'"
      ]
     },
     "execution_count": 7,
     "metadata": {},
     "output_type": "execute_result"
    }
   ],
   "source": [
    "'''\n",
    "newarr2=arr.reshape(3,3)\n",
    "print(newarr2)\n",
    "ValueError: cannot reshape array of size 12 into shape (3,3)\n",
    "'''"
   ]
  },
  {
   "cell_type": "markdown",
   "id": "4c4a8b0c",
   "metadata": {},
   "source": [
    "**Returns Copy or View?**"
   ]
  },
  {
   "cell_type": "code",
   "execution_count": 9,
   "id": "0143acbe",
   "metadata": {},
   "outputs": [
    {
     "name": "stdout",
     "output_type": "stream",
     "text": [
      "[1 2 3 4 5 6 7 8]\n"
     ]
    }
   ],
   "source": [
    "arr = np.array([1, 2, 3, 4, 5, 6, 7, 8])\n",
    "print(arr.reshape(2, 4).base) #Returns original array, so its a view"
   ]
  },
  {
   "cell_type": "markdown",
   "id": "835eadc1",
   "metadata": {},
   "source": [
    "**Unknown Dimension**"
   ]
  },
  {
   "cell_type": "code",
   "execution_count": 11,
   "id": "0aa9dcf3",
   "metadata": {},
   "outputs": [
    {
     "name": "stdout",
     "output_type": "stream",
     "text": [
      "[[[1 2]\n",
      "  [3 4]]\n",
      "\n",
      " [[5 6]\n",
      "  [7 8]]]\n",
      "(2, 2, 2)\n"
     ]
    }
   ],
   "source": [
    "newarr2=arr.reshape(2,-1,2) #-1 means unknown dimension.Numpy automatically calculates the value\n",
    "print(newarr2)\n",
    "print(newarr2.shape)"
   ]
  },
  {
   "cell_type": "markdown",
   "id": "b6606819",
   "metadata": {},
   "source": [
    "**Note**: We can not pass -1 to more than one dimension."
   ]
  },
  {
   "cell_type": "markdown",
   "id": "49d6616b",
   "metadata": {},
   "source": [
    "**Flattening the arrays**"
   ]
  },
  {
   "cell_type": "code",
   "execution_count": 14,
   "id": "57fa6b67",
   "metadata": {},
   "outputs": [
    {
     "name": "stdout",
     "output_type": "stream",
     "text": [
      "[1 2 3 4 5 6]\n",
      "(6,)\n"
     ]
    }
   ],
   "source": [
    "arr = np.array([[1, 2, 3], [4, 5, 6]])\n",
    "newarr = arr.reshape(-1) #converts multidimensional into 1-D array\n",
    "print(newarr)\n",
    "print(newarr.shape)"
   ]
  },
  {
   "cell_type": "code",
   "execution_count": null,
   "id": "8e6d9a7f",
   "metadata": {},
   "outputs": [],
   "source": []
  }
 ],
 "metadata": {
  "kernelspec": {
   "display_name": "Python 3",
   "language": "python",
   "name": "python3"
  },
  "language_info": {
   "codemirror_mode": {
    "name": "ipython",
    "version": 3
   },
   "file_extension": ".py",
   "mimetype": "text/x-python",
   "name": "python",
   "nbconvert_exporter": "python",
   "pygments_lexer": "ipython3",
   "version": "3.8.3"
  }
 },
 "nbformat": 4,
 "nbformat_minor": 5
}
